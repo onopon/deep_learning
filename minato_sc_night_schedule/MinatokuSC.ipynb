{
 "cells": [
  {
   "cell_type": "markdown",
   "metadata": {},
   "source": [
    "### 港区SCの夜間卓球ができるかどうかを判断する人工知能\n",
    "\n",
    "休日は使わない想定で一旦作ってるけど、切り出す場所変えてあげれば十分このmodelでも対応できるはず。"
   ]
  },
  {
   "cell_type": "markdown",
   "metadata": {},
   "source": [
    "PILを利用する場合は\n",
    "pip install pillow\n",
    "でもエラーが出る場合は、\n",
    "pip install --force-reinstall Pillow==5.0.0\n",
    "を試す。（ https://stackoverflow.com/questions/49887968/what-does-symbol-not-found-clock-gettime-mean-when-calling-a-python-2-7-scri )\n",
    "\n",
    "URLから何かを読み込む場合はこれ。\n",
    "pip install urllib3\n"
   ]
  },
  {
   "cell_type": "code",
   "execution_count": 2,
   "metadata": {},
   "outputs": [
    {
     "name": "stderr",
     "output_type": "stream",
     "text": [
      "Using TensorFlow backend.\n"
     ]
    }
   ],
   "source": [
    "import numpy as np\n",
    "import keras\n",
    "from keras.models import Sequential\n",
    "from keras.layers import Dense, Conv2D, MaxPooling2D, Flatten, Input, Activation, Dropout\n",
    "from keras.callbacks import EarlyStopping\n",
    "from keras.preprocessing.image import ImageDataGenerator\n",
    "\n",
    "from IPython.display import SVG\n",
    "from keras.utils.vis_utils import model_to_dot"
   ]
  },
  {
   "cell_type": "code",
   "execution_count": 3,
   "metadata": {},
   "outputs": [],
   "source": [
    "WIDTH = 64\n",
    "HEIGHT = 64\n",
    "CROP_X = 310 \n",
    "CROP_Y = 240\n",
    "CROP_WIDTH = 100\n",
    "CROP_HEIGHT = 110\n",
    "CHANNEL = 3"
   ]
  },
  {
   "cell_type": "code",
   "execution_count": 4,
   "metadata": {},
   "outputs": [],
   "source": [
    "# 夜の時間帯も卓球できる\n",
    "image_urls_0 = [\"http://livedoor.blogimg.jp/minatoku_sposen/imgs/a/9/a90ccd4d.png\",\n",
    "            \"http://livedoor.blogimg.jp/minatoku_sposen/imgs/4/b/4b66e8d3.png\",\n",
    "            \"http://livedoor.blogimg.jp/minatoku_sposen/imgs/0/0/006c2333.png\",\n",
    "            \"http://livedoor.blogimg.jp/minatoku_sposen/imgs/0/6/06217cdc.png\",\n",
    "            \"http://livedoor.blogimg.jp/minatoku_sposen/imgs/9/9/994c33f6.png\",\n",
    "            \"http://livedoor.blogimg.jp/minatoku_sposen/imgs/d/0/d04d4563.png\",\n",
    "            \"http://livedoor.blogimg.jp/minatoku_sposen/imgs/b/e/be312b6b.png\",\n",
    "            \"http://livedoor.blogimg.jp/minatoku_sposen/imgs/b/f/bfd5fbdc.png\",\n",
    "            \"http://livedoor.blogimg.jp/minatoku_sposen/imgs/0/c/0cb38569.png\",\n",
    "            \"http://livedoor.blogimg.jp/minatoku_sposen/imgs/e/2/e28788dd.png\",\n",
    "            \"http://livedoor.blogimg.jp/minatoku_sposen/imgs/9/1/91e23986.png\",\n",
    "            \"http://livedoor.blogimg.jp/minatoku_sposen/imgs/f/4/f4513b47.png\",\n",
    "            \"http://livedoor.blogimg.jp/minatoku_sposen/imgs/1/f/1f8229f6.png\",\n",
    "            \"http://livedoor.blogimg.jp/minatoku_sposen/imgs/2/f/2fe7b0dc.png\",\n",
    "            \"http://livedoor.blogimg.jp/minatoku_sposen/imgs/4/c/4cfd197e.png\",\n",
    "            \"http://livedoor.blogimg.jp/minatoku_sposen/imgs/6/1/6154252c.png\",\n",
    "            \"http://livedoor.blogimg.jp/minatoku_sposen/imgs/7/e/7e38e816.png\",\n",
    "            \"http://livedoor.blogimg.jp/minatoku_sposen/imgs/b/c/bc0dfe1d.png\",\n",
    "            \"http://livedoor.blogimg.jp/minatoku_sposen/imgs/f/9/f99136fd.png\",\n",
    "            \"http://livedoor.blogimg.jp/minatoku_sposen/imgs/f/2/f28a6188.png\",\n",
    "            \"http://livedoor.blogimg.jp/minatoku_sposen/imgs/d/7/d7562db3.png\",\n",
    "            \"http://livedoor.blogimg.jp/minatoku_sposen/imgs/3/c/3c9e8efd.png\",\n",
    "            \"http://livedoor.blogimg.jp/minatoku_sposen/imgs/3/c/3c1276e0.png\",\n",
    "            \"http://livedoor.blogimg.jp/minatoku_sposen/imgs/a/6/a6d56427.png\"]\n",
    "\n",
    "# 夜の時間帯も卓球できるけど、一部できない\n",
    "image_urls_1 = [\"http://livedoor.blogimg.jp/minatoku_sposen/imgs/4/7/47590b6e.png\",\n",
    "            \"http://livedoor.blogimg.jp/minatoku_sposen/imgs/8/e/8e728429.png\",\n",
    "            \"http://livedoor.blogimg.jp/minatoku_sposen/imgs/4/e/4ebc3d81.png\",  \n",
    "            \"http://livedoor.blogimg.jp/minatoku_sposen/imgs/6/7/67fe4059.png\",\n",
    "            \"http://livedoor.blogimg.jp/minatoku_sposen/imgs/4/d/4dd11652.png\",\n",
    "            \"http://livedoor.blogimg.jp/minatoku_sposen/imgs/2/b/2b038d94.png\",\n",
    "            \"http://livedoor.blogimg.jp/minatoku_sposen/imgs/3/3/33227bd8.png\",\n",
    "            \"http://livedoor.blogimg.jp/minatoku_sposen/imgs/2/f/2f359b8e.png\",\n",
    "            \"http://livedoor.blogimg.jp/minatoku_sposen/imgs/7/2/7213b7bf.png\",\n",
    "            \"http://livedoor.blogimg.jp/minatoku_sposen/imgs/3/d/3db58376.png\",\n",
    "            \"http://livedoor.blogimg.jp/minatoku_sposen/imgs/1/c/1c99c053.png\",\n",
    "            \"http://livedoor.blogimg.jp/minatoku_sposen/imgs/8/2/82145974.png\"]\n",
    "    \n",
    "# 夜の時間帯も卓球できない\n",
    "image_urls_2 = [\"http://livedoor.blogimg.jp/minatoku_sposen/imgs/b/f/bfcc792b.png\",\n",
    "            \"http://livedoor.blogimg.jp/minatoku_sposen/imgs/e/5/e5ba8e84.png\",\n",
    "            \"http://livedoor.blogimg.jp/minatoku_sposen/imgs/a/b/ab4b4e6d.png\",\n",
    "            \"http://livedoor.blogimg.jp/minatoku_sposen/imgs/a/8/a8536024.png\",\n",
    "            \"http://livedoor.blogimg.jp/minatoku_sposen/imgs/6/e/6e7190a0.png\",\n",
    "            \"http://livedoor.blogimg.jp/minatoku_sposen/imgs/d/f/dfd3b931.png\",\n",
    "            \"http://livedoor.blogimg.jp/minatoku_sposen/imgs/b/a/ba80500b.png\",\n",
    "            \"http://livedoor.blogimg.jp/minatoku_sposen/imgs/3/f/3f1c9785.png\",\n",
    "            \"http://livedoor.blogimg.jp/minatoku_sposen/imgs/e/3/e312b795.png\",\n",
    "            \"http://livedoor.blogimg.jp/minatoku_sposen/imgs/f/9/f9743ed7.png\",\n",
    "            \"http://livedoor.blogimg.jp/minatoku_sposen/imgs/3/9/39a13efb.png\",\n",
    "            \"http://livedoor.blogimg.jp/minatoku_sposen/imgs/a/1/a1fb6f81.png\",\n",
    "            \"http://livedoor.blogimg.jp/minatoku_sposen/imgs/f/b/fb96aa4b.png\",\n",
    "            \"http://livedoor.blogimg.jp/minatoku_sposen/imgs/a/8/a841b1ae.png\",\n",
    "            \"http://livedoor.blogimg.jp/minatoku_sposen/imgs/4/1/41eb7d22.png\",\n",
    "            \"http://livedoor.blogimg.jp/minatoku_sposen/imgs/4/c/4ce1f54a.png\",\n",
    "            \"http://livedoor.blogimg.jp/minatoku_sposen/imgs/6/e/6e1346fe.png\",\n",
    "            \"http://livedoor.blogimg.jp/minatoku_sposen/imgs/4/0/40654137.png\",\n",
    "            \"http://livedoor.blogimg.jp/minatoku_sposen/imgs/8/3/83a7c32c.png\",\n",
    "            \"http://livedoor.blogimg.jp/minatoku_sposen/imgs/4/4/44fd22d8.png\"]"
   ]
  },
  {
   "cell_type": "code",
   "execution_count": 828,
   "metadata": {},
   "outputs": [],
   "source": [
    "#  acc: 0.9643 まで到達 ( batch=4, epoch=9)\n",
    "model = Sequential()\n",
    "model.add(Conv2D(128, kernel_size=(4, 4), activation='relu', input_shape=(HEIGHT, WIDTH, CHANNEL)))\n",
    "# model.add(Conv2D(8, kernel_size=(2, 2), activation='relu'))\n",
    "model.add(Conv2D(4, kernel_size=(2, 2), activation='relu'))\n",
    "model.add(Flatten())\n",
    "model.add(Dense(3, activation='softmax'))\n",
    "\n",
    "model.compile(\n",
    "    loss=keras.losses.categorical_crossentropy,\n",
    "    optimizer='adam',\n",
    "    metrics=['accuracy']\n",
    ")"
   ]
  },
  {
   "cell_type": "code",
   "execution_count": 831,
   "metadata": {},
   "outputs": [],
   "source": [
    "model = Sequential()\n",
    "model.add(Conv2D(128, kernel_size=(4, 4), activation='relu', input_shape=(CROP_HEIGHT, CROP_WIDTH, CHANNEL)))\n",
    "# model.add(MaxPooling2D(pool_size=(2, 2)))\n",
    "model.add(Conv2D(64, kernel_size=(4, 4), activation='relu'))\n",
    "# model.add(Conv2D(8, kernel_size=(2, 2), activation='relu'))\n",
    "model.add(Conv2D(4, kernel_size=(2, 2), activation='relu'))\n",
    "# model.add(MaxPooling2D(pool_size=(2, 2)))\n",
    "model.add(Flatten())\n",
    "model.add(Dense(3, activation='softmax'))\n",
    "\n",
    "model.compile(\n",
    "    loss=keras.losses.categorical_crossentropy,\n",
    "    optimizer='adam',\n",
    "    metrics=['accuracy']\n",
    ")"
   ]
  },
  {
   "cell_type": "code",
   "execution_count": 18,
   "metadata": {},
   "outputs": [],
   "source": [
    "model = Sequential()\n",
    "model.add(Conv2D(128, kernel_size=(4, 4), activation='relu', input_shape=(HEIGHT, WIDTH, CHANNEL)))\n",
    "# model.add(MaxPooling2D(pool_size=(16, 16)))\n",
    "model.add(Conv2D(4, kernel_size=(2, 2), activation='sigmoid'))\n",
    "model.add(Flatten())\n",
    "model.add(Dense(3, activation='softmax'))\n",
    "\n",
    "model.compile(\n",
    "    loss=keras.losses.categorical_crossentropy,\n",
    "    optimizer='adam',\n",
    "    metrics=['accuracy']\n",
    ")"
   ]
  },
  {
   "cell_type": "code",
   "execution_count": 6,
   "metadata": {
    "scrolled": true
   },
   "outputs": [
    {
     "data": {
      "image/svg+xml": [
       "<svg height=\"377pt\" viewBox=\"0.00 0.00 351.89 377.00\" width=\"352pt\" xmlns=\"http://www.w3.org/2000/svg\" xmlns:xlink=\"http://www.w3.org/1999/xlink\">\n",
       "<g class=\"graph\" id=\"graph0\" transform=\"scale(1 1) rotate(0) translate(4 373)\">\n",
       "<title>G</title>\n",
       "<polygon fill=\"white\" points=\"-4,4 -4,-373 347.894,-373 347.894,4 -4,4\" stroke=\"none\"/>\n",
       "<!-- 4712215048 -->\n",
       "<g class=\"node\" id=\"node1\"><title>4712215048</title>\n",
       "<polygon fill=\"none\" points=\"0,-324.5 0,-368.5 343.894,-368.5 343.894,-324.5 0,-324.5\" stroke=\"black\"/>\n",
       "<text font-family=\"Times,serif\" font-size=\"14.00\" text-anchor=\"middle\" x=\"88.2881\" y=\"-342.3\">conv2d_1_input: InputLayer</text>\n",
       "<polyline fill=\"none\" points=\"176.576,-324.5 176.576,-368.5 \" stroke=\"black\"/>\n",
       "<text font-family=\"Times,serif\" font-size=\"14.00\" text-anchor=\"middle\" x=\"204.411\" y=\"-353.3\">input:</text>\n",
       "<polyline fill=\"none\" points=\"176.576,-346.5 232.245,-346.5 \" stroke=\"black\"/>\n",
       "<text font-family=\"Times,serif\" font-size=\"14.00\" text-anchor=\"middle\" x=\"204.411\" y=\"-331.3\">output:</text>\n",
       "<polyline fill=\"none\" points=\"232.245,-324.5 232.245,-368.5 \" stroke=\"black\"/>\n",
       "<text font-family=\"Times,serif\" font-size=\"14.00\" text-anchor=\"middle\" x=\"288.069\" y=\"-353.3\">(None, 64, 64, 3)</text>\n",
       "<polyline fill=\"none\" points=\"232.245,-346.5 343.894,-346.5 \" stroke=\"black\"/>\n",
       "<text font-family=\"Times,serif\" font-size=\"14.00\" text-anchor=\"middle\" x=\"288.069\" y=\"-331.3\">(None, 64, 64, 3)</text>\n",
       "</g>\n",
       "<!-- 4712214600 -->\n",
       "<g class=\"node\" id=\"node2\"><title>4712214600</title>\n",
       "<polygon fill=\"none\" points=\"18.2622,-243.5 18.2622,-287.5 325.631,-287.5 325.631,-243.5 18.2622,-243.5\" stroke=\"black\"/>\n",
       "<text font-family=\"Times,serif\" font-size=\"14.00\" text-anchor=\"middle\" x=\"81.2881\" y=\"-261.3\">conv2d_1: Conv2D</text>\n",
       "<polyline fill=\"none\" points=\"144.314,-243.5 144.314,-287.5 \" stroke=\"black\"/>\n",
       "<text font-family=\"Times,serif\" font-size=\"14.00\" text-anchor=\"middle\" x=\"172.148\" y=\"-272.3\">input:</text>\n",
       "<polyline fill=\"none\" points=\"144.314,-265.5 199.983,-265.5 \" stroke=\"black\"/>\n",
       "<text font-family=\"Times,serif\" font-size=\"14.00\" text-anchor=\"middle\" x=\"172.148\" y=\"-250.3\">output:</text>\n",
       "<polyline fill=\"none\" points=\"199.983,-243.5 199.983,-287.5 \" stroke=\"black\"/>\n",
       "<text font-family=\"Times,serif\" font-size=\"14.00\" text-anchor=\"middle\" x=\"262.807\" y=\"-272.3\">(None, 64, 64, 3)</text>\n",
       "<polyline fill=\"none\" points=\"199.983,-265.5 325.631,-265.5 \" stroke=\"black\"/>\n",
       "<text font-family=\"Times,serif\" font-size=\"14.00\" text-anchor=\"middle\" x=\"262.807\" y=\"-250.3\">(None, 61, 61, 128)</text>\n",
       "</g>\n",
       "<!-- 4712215048&#45;&gt;4712214600 -->\n",
       "<g class=\"edge\" id=\"edge1\"><title>4712215048-&gt;4712214600</title>\n",
       "<path d=\"M171.947,-324.329C171.947,-316.183 171.947,-306.699 171.947,-297.797\" fill=\"none\" stroke=\"black\"/>\n",
       "<polygon fill=\"black\" points=\"175.447,-297.729 171.947,-287.729 168.447,-297.729 175.447,-297.729\" stroke=\"black\"/>\n",
       "</g>\n",
       "<!-- 4712378096 -->\n",
       "<g class=\"node\" id=\"node3\"><title>4712378096</title>\n",
       "<polygon fill=\"none\" points=\"18.2622,-162.5 18.2622,-206.5 325.631,-206.5 325.631,-162.5 18.2622,-162.5\" stroke=\"black\"/>\n",
       "<text font-family=\"Times,serif\" font-size=\"14.00\" text-anchor=\"middle\" x=\"81.2881\" y=\"-180.3\">conv2d_2: Conv2D</text>\n",
       "<polyline fill=\"none\" points=\"144.314,-162.5 144.314,-206.5 \" stroke=\"black\"/>\n",
       "<text font-family=\"Times,serif\" font-size=\"14.00\" text-anchor=\"middle\" x=\"172.148\" y=\"-191.3\">input:</text>\n",
       "<polyline fill=\"none\" points=\"144.314,-184.5 199.983,-184.5 \" stroke=\"black\"/>\n",
       "<text font-family=\"Times,serif\" font-size=\"14.00\" text-anchor=\"middle\" x=\"172.148\" y=\"-169.3\">output:</text>\n",
       "<polyline fill=\"none\" points=\"199.983,-162.5 199.983,-206.5 \" stroke=\"black\"/>\n",
       "<text font-family=\"Times,serif\" font-size=\"14.00\" text-anchor=\"middle\" x=\"262.807\" y=\"-191.3\">(None, 61, 61, 128)</text>\n",
       "<polyline fill=\"none\" points=\"199.983,-184.5 325.631,-184.5 \" stroke=\"black\"/>\n",
       "<text font-family=\"Times,serif\" font-size=\"14.00\" text-anchor=\"middle\" x=\"262.807\" y=\"-169.3\">(None, 60, 60, 4)</text>\n",
       "</g>\n",
       "<!-- 4712214600&#45;&gt;4712378096 -->\n",
       "<g class=\"edge\" id=\"edge2\"><title>4712214600-&gt;4712378096</title>\n",
       "<path d=\"M171.947,-243.329C171.947,-235.183 171.947,-225.699 171.947,-216.797\" fill=\"none\" stroke=\"black\"/>\n",
       "<polygon fill=\"black\" points=\"175.447,-216.729 171.947,-206.729 168.447,-216.729 175.447,-216.729\" stroke=\"black\"/>\n",
       "</g>\n",
       "<!-- 4712377928 -->\n",
       "<g class=\"node\" id=\"node4\"><title>4712377928</title>\n",
       "<polygon fill=\"none\" points=\"32.6553,-81.5 32.6553,-125.5 311.238,-125.5 311.238,-81.5 32.6553,-81.5\" stroke=\"black\"/>\n",
       "<text font-family=\"Times,serif\" font-size=\"14.00\" text-anchor=\"middle\" x=\"88.2881\" y=\"-99.3\">flatten_1: Flatten</text>\n",
       "<polyline fill=\"none\" points=\"143.921,-81.5 143.921,-125.5 \" stroke=\"black\"/>\n",
       "<text font-family=\"Times,serif\" font-size=\"14.00\" text-anchor=\"middle\" x=\"171.755\" y=\"-110.3\">input:</text>\n",
       "<polyline fill=\"none\" points=\"143.921,-103.5 199.59,-103.5 \" stroke=\"black\"/>\n",
       "<text font-family=\"Times,serif\" font-size=\"14.00\" text-anchor=\"middle\" x=\"171.755\" y=\"-88.3\">output:</text>\n",
       "<polyline fill=\"none\" points=\"199.59,-81.5 199.59,-125.5 \" stroke=\"black\"/>\n",
       "<text font-family=\"Times,serif\" font-size=\"14.00\" text-anchor=\"middle\" x=\"255.414\" y=\"-110.3\">(None, 60, 60, 4)</text>\n",
       "<polyline fill=\"none\" points=\"199.59,-103.5 311.238,-103.5 \" stroke=\"black\"/>\n",
       "<text font-family=\"Times,serif\" font-size=\"14.00\" text-anchor=\"middle\" x=\"255.414\" y=\"-88.3\">(None, 14400)</text>\n",
       "</g>\n",
       "<!-- 4712378096&#45;&gt;4712377928 -->\n",
       "<g class=\"edge\" id=\"edge3\"><title>4712378096-&gt;4712377928</title>\n",
       "<path d=\"M171.947,-162.329C171.947,-154.183 171.947,-144.699 171.947,-135.797\" fill=\"none\" stroke=\"black\"/>\n",
       "<polygon fill=\"black\" points=\"175.447,-135.729 171.947,-125.729 168.447,-135.729 175.447,-135.729\" stroke=\"black\"/>\n",
       "</g>\n",
       "<!-- 4712216224 -->\n",
       "<g class=\"node\" id=\"node5\"><title>4712216224</title>\n",
       "<polygon fill=\"none\" points=\"43.1621,-0.5 43.1621,-44.5 300.731,-44.5 300.731,-0.5 43.1621,-0.5\" stroke=\"black\"/>\n",
       "<text font-family=\"Times,serif\" font-size=\"14.00\" text-anchor=\"middle\" x=\"95.2881\" y=\"-18.3\">dense_1: Dense</text>\n",
       "<polyline fill=\"none\" points=\"147.414,-0.5 147.414,-44.5 \" stroke=\"black\"/>\n",
       "<text font-family=\"Times,serif\" font-size=\"14.00\" text-anchor=\"middle\" x=\"175.249\" y=\"-29.3\">input:</text>\n",
       "<polyline fill=\"none\" points=\"147.414,-22.5 203.083,-22.5 \" stroke=\"black\"/>\n",
       "<text font-family=\"Times,serif\" font-size=\"14.00\" text-anchor=\"middle\" x=\"175.249\" y=\"-7.3\">output:</text>\n",
       "<polyline fill=\"none\" points=\"203.083,-0.5 203.083,-44.5 \" stroke=\"black\"/>\n",
       "<text font-family=\"Times,serif\" font-size=\"14.00\" text-anchor=\"middle\" x=\"251.907\" y=\"-29.3\">(None, 14400)</text>\n",
       "<polyline fill=\"none\" points=\"203.083,-22.5 300.731,-22.5 \" stroke=\"black\"/>\n",
       "<text font-family=\"Times,serif\" font-size=\"14.00\" text-anchor=\"middle\" x=\"251.907\" y=\"-7.3\">(None, 3)</text>\n",
       "</g>\n",
       "<!-- 4712377928&#45;&gt;4712216224 -->\n",
       "<g class=\"edge\" id=\"edge4\"><title>4712377928-&gt;4712216224</title>\n",
       "<path d=\"M171.947,-81.3294C171.947,-73.1826 171.947,-63.6991 171.947,-54.7971\" fill=\"none\" stroke=\"black\"/>\n",
       "<polygon fill=\"black\" points=\"175.447,-54.729 171.947,-44.729 168.447,-54.729 175.447,-54.729\" stroke=\"black\"/>\n",
       "</g>\n",
       "</g>\n",
       "</svg>"
      ],
      "text/plain": [
       "<IPython.core.display.SVG object>"
      ]
     },
     "execution_count": 6,
     "metadata": {},
     "output_type": "execute_result"
    }
   ],
   "source": [
    "SVG(model_to_dot(model, show_shapes=True).create(prog='dot', format='svg'))"
   ]
  },
  {
   "cell_type": "code",
   "execution_count": 6,
   "metadata": {},
   "outputs": [],
   "source": [
    "from PIL import Image\n",
    "import numpy as np\n",
    "import matplotlib.pyplot as plt\n",
    "import urllib3\n",
    "import io\n",
    "from urllib.request import urlopen"
   ]
  },
  {
   "cell_type": "code",
   "execution_count": 73,
   "metadata": {
    "hide_input": true
   },
   "outputs": [],
   "source": [
    "http = urllib3.PoolManager()\n",
    "img_url = \"http://livedoor.blogimg.jp/minatoku_sposen/imgs/4/7/47590b6e.png\"\n",
    "file =io.BytesIO(urlopen(img_url).read())\n",
    "img = Image.open(file)\n",
    "im = np.array(img)"
   ]
  },
  {
   "cell_type": "code",
   "execution_count": 74,
   "metadata": {
    "hide_input": true
   },
   "outputs": [
    {
     "data": {
      "text/plain": [
       "(589, 424, 3)"
      ]
     },
     "execution_count": 74,
     "metadata": {},
     "output_type": "execute_result"
    }
   ],
   "source": [
    "im.shape"
   ]
  },
  {
   "cell_type": "code",
   "execution_count": 78,
   "metadata": {
    "hide_input": true
   },
   "outputs": [
    {
     "name": "stdout",
     "output_type": "stream",
     "text": [
      "(1, 589, 424, 3)\n",
      "(1, 3)\n"
     ]
    }
   ],
   "source": [
    "train_x = np.array([im])\n",
    "train_y = np.array([[1,0,0]])\n",
    "print(train_x.shape)\n",
    "print(train_y.shape)"
   ]
  },
  {
   "cell_type": "code",
   "execution_count": 39,
   "metadata": {},
   "outputs": [
    {
     "name": "stdout",
     "output_type": "stream",
     "text": [
      "Epoch 1/5\n",
      "56/56 [==============================] - 1s 19ms/step - loss: 0.1239 - acc: 0.9821\n",
      "Epoch 2/5\n",
      "56/56 [==============================] - 1s 17ms/step - loss: 0.1018 - acc: 1.0000\n",
      "Epoch 3/5\n",
      "56/56 [==============================] - 1s 17ms/step - loss: 0.0893 - acc: 1.0000\n",
      "Epoch 4/5\n",
      "56/56 [==============================] - 1s 19ms/step - loss: 0.0793 - acc: 1.0000\n",
      "Epoch 5/5\n",
      "56/56 [==============================] - 1s 19ms/step - loss: 0.0737 - acc: 1.0000\n"
     ]
    },
    {
     "data": {
      "text/plain": [
       "<keras.callbacks.History at 0x1126ab080>"
      ]
     },
     "execution_count": 39,
     "metadata": {},
     "output_type": "execute_result"
    }
   ],
   "source": [
    "# model.fit(x=x_train, y=y_train, batch_size=3, epochs=10, verbose=1,\n",
    "#           validation_data=(x_test, y_test), callbacks=[early_stopping])\n",
    "early_stopping = EarlyStopping(patience=1, verbose=1)\n",
    "model.fit(x=train_X, y=train_Y, batch_size=4, epochs=5, verbose=1, shuffle=1)"
   ]
  },
  {
   "cell_type": "code",
   "execution_count": 9,
   "metadata": {},
   "outputs": [],
   "source": [
    "datagen = ImageDataGenerator(\n",
    "    width_shift_range=0.1,\n",
    "    height_shift_range=0.1)"
   ]
  },
  {
   "cell_type": "code",
   "execution_count": null,
   "metadata": {},
   "outputs": [
    {
     "name": "stdout",
     "output_type": "stream",
     "text": [
      "Epoch 1/10\n",
      "28/28 [==============================] - 1s 43ms/step - loss: 0.3614 - acc: 0.9107\n",
      "Epoch 2/10\n",
      "28/28 [==============================] - 1s 43ms/step - loss: 0.1596 - acc: 0.9821\n",
      "Epoch 3/10\n",
      "28/28 [==============================] - 1s 53ms/step - loss: 0.1496 - acc: 0.9464\n",
      "Epoch 4/10\n",
      "28/28 [==============================] - 1s 48ms/step - loss: 0.1705 - acc: 0.9821\n",
      "Epoch 5/10\n",
      "28/28 [==============================] - 1s 50ms/step - loss: 0.2183 - acc: 0.9107\n",
      "Epoch 6/10\n",
      "28/28 [==============================] - 1s 53ms/step - loss: 0.4505 - acc: 0.8036\n",
      "Epoch 7/10\n",
      "28/28 [==============================] - 2s 57ms/step - loss: 0.4133 - acc: 0.8393\n",
      "Epoch 8/10\n",
      "28/28 [==============================] - 1s 50ms/step - loss: 0.2856 - acc: 0.9107\n",
      "Epoch 9/10\n",
      " 8/28 [=======>......................] - ETA: 0s - loss: 0.3884 - acc: 0.8750"
     ]
    }
   ],
   "source": [
    "model.fit_generator(datagen.flow(train_X, train_Y, batch_size=2),\n",
    "                    steps_per_epoch=train_X.shape[0] // 2, epochs=10)"
   ]
  },
  {
   "cell_type": "code",
   "execution_count": 40,
   "metadata": {},
   "outputs": [
    {
     "name": "stdout",
     "output_type": "stream",
     "text": [
      "0\n",
      "0\n",
      "1\n",
      "0\n",
      "2\n",
      "0\n"
     ]
    }
   ],
   "source": [
    "http = urllib3.PoolManager()\n",
    "\n",
    "# 夜間使えるやつ(0)\n",
    "# 一部使えないやつ(1)\n",
    "# 夜間使えないやつ(2)\n",
    "img_urls = [\"http://livedoor.blogimg.jp/minatoku_sposen/imgs/0/6/063bb318.png\", #0,\n",
    "            \"http://livedoor.blogimg.jp/minatoku_sposen/imgs/3/b/3b9a2757.png\", #0\n",
    "            \"http://livedoor.blogimg.jp/minatoku_sposen/imgs/f/d/fd92b031.png\", #1\n",
    "            \"http://livedoor.blogimg.jp/minatoku_sposen/imgs/4/9/49741ac1.png\", #1\n",
    "            \"http://livedoor.blogimg.jp/minatoku_sposen/imgs/2/1/2164e0d8.png\", #2\n",
    "            \"http://livedoor.blogimg.jp/minatoku_sposen/imgs/8/1/81cf8424.png\"] #2\n",
    "\n",
    "for img_url in img_urls:\n",
    "    file =io.BytesIO(urlopen(img_url).read())\n",
    "    img = Image.open(file)\n",
    "    img = img.crop((CROP_X, CROP_Y, CROP_X + CROP_WIDTH, CROP_Y + CROP_HEIGHT)).resize((WIDTH, HEIGHT))\n",
    "    im = np.array(img)\n",
    "    im = im[...,:CHANNEL]\n",
    "    test_x = np.array([im])\n",
    "    pred_y = model.predict(test_x)\n",
    "    print(np.argmax(pred_y))"
   ]
  },
  {
   "cell_type": "code",
   "execution_count": 562,
   "metadata": {},
   "outputs": [
    {
     "name": "stdout",
     "output_type": "stream",
     "text": [
      "0\n"
     ]
    }
   ],
   "source": [
    "print(np.argmax(pred_y))"
   ]
  },
  {
   "cell_type": "code",
   "execution_count": 7,
   "metadata": {},
   "outputs": [
    {
     "name": "stdout",
     "output_type": "stream",
     "text": [
      "(56, 64, 64, 3)\n",
      "(56, 3)\n"
     ]
    }
   ],
   "source": [
    "x_list = []\n",
    "train_X = np.array([])\n",
    "train_Y = np.array([])\n",
    "for img_url in image_urls_0:\n",
    "    http = urllib3.PoolManager()\n",
    "    file =io.BytesIO(urlopen(img_url).read())\n",
    "    img = Image.open(file)\n",
    "    img = img.crop((CROP_X, CROP_Y, CROP_X + CROP_WIDTH, CROP_Y + CROP_HEIGHT)).resize((WIDTH, HEIGHT))\n",
    "    im = np.array(img)\n",
    "    im = im[...,:CHANNEL]\n",
    "    train_X = np.append(train_X, im)\n",
    "    train_Y = np.append(train_Y, np.array([1,0,0]))\n",
    " \n",
    "for img_url in image_urls_1:\n",
    "    http = urllib3.PoolManager()\n",
    "    file =io.BytesIO(urlopen(img_url).read())\n",
    "    img = Image.open(file)\n",
    "    img = img.crop((CROP_X, CROP_Y, CROP_X + CROP_WIDTH, CROP_Y + CROP_HEIGHT)).resize((WIDTH, HEIGHT))\n",
    "    im = np.array(img)\n",
    "    im = im[...,:CHANNEL]\n",
    "    train_X = np.append(train_X, im)\n",
    "    train_Y = np.append(train_Y, np.array([0,1,0]))\n",
    "\n",
    "for img_url in image_urls_2:\n",
    "    http = urllib3.PoolManager()\n",
    "    file =io.BytesIO(urlopen(img_url).read())\n",
    "    img = Image.open(file)\n",
    "    img = img.crop((CROP_X, CROP_Y, CROP_X + CROP_WIDTH, CROP_Y + CROP_HEIGHT)).resize((WIDTH, HEIGHT))\n",
    "    im = np.array(img)\n",
    "    im = im[...,:CHANNEL]\n",
    "    train_X = np.append(train_X, im)\n",
    "    train_Y = np.append(train_Y, np.array([0,0,1]))\n",
    "\n",
    "total = len(image_urls_0) + len(image_urls_1) + len(image_urls_2)\n",
    "    \n",
    "train_X = train_X.reshape(total, HEIGHT, WIDTH, CHANNEL)\n",
    "train_Y = train_Y.reshape(total, 3)\n",
    "\n",
    "print(train_X.shape)\n",
    "print(train_Y.shape)"
   ]
  },
  {
   "cell_type": "code",
   "execution_count": 269,
   "metadata": {},
   "outputs": [],
   "source": [
    "img_url = \"http://livedoor.blogimg.jp/minatoku_sposen/imgs/d/0/d04d4563.png\"\n",
    "file =io.BytesIO(urlopen(img_url).read())\n",
    "img = Image.open(file).resize((WIDTH,HEIGHT))\n",
    "w = 90\n",
    "h = 120\n",
    "im_crop = img.crop((310, 240, 315 + w, 240+h))\n",
    "im_crop.show()"
   ]
  },
  {
   "cell_type": "code",
   "execution_count": 30,
   "metadata": {},
   "outputs": [],
   "source": [
    "model.save('./minatoku_sc20180620013645.hdf5')"
   ]
  },
  {
   "cell_type": "code",
   "execution_count": 33,
   "metadata": {},
   "outputs": [],
   "source": [
    "from keras.models import load_model\n",
    "model2 = load_model(\"./minatoku_sc20180620013645.hdf5\")"
   ]
  },
  {
   "cell_type": "code",
   "execution_count": 34,
   "metadata": {},
   "outputs": [
    {
     "data": {
      "image/svg+xml": [
       "<svg height=\"377pt\" viewBox=\"0.00 0.00 351.89 377.00\" width=\"352pt\" xmlns=\"http://www.w3.org/2000/svg\" xmlns:xlink=\"http://www.w3.org/1999/xlink\">\n",
       "<g class=\"graph\" id=\"graph0\" transform=\"scale(1 1) rotate(0) translate(4 373)\">\n",
       "<title>G</title>\n",
       "<polygon fill=\"white\" points=\"-4,4 -4,-373 347.894,-373 347.894,4 -4,4\" stroke=\"none\"/>\n",
       "<!-- 4775117208 -->\n",
       "<g class=\"node\" id=\"node1\"><title>4775117208</title>\n",
       "<polygon fill=\"none\" points=\"0,-324.5 0,-368.5 343.894,-368.5 343.894,-324.5 0,-324.5\" stroke=\"black\"/>\n",
       "<text font-family=\"Times,serif\" font-size=\"14.00\" text-anchor=\"middle\" x=\"88.2881\" y=\"-342.3\">conv2d_5_input: InputLayer</text>\n",
       "<polyline fill=\"none\" points=\"176.576,-324.5 176.576,-368.5 \" stroke=\"black\"/>\n",
       "<text font-family=\"Times,serif\" font-size=\"14.00\" text-anchor=\"middle\" x=\"204.411\" y=\"-353.3\">input:</text>\n",
       "<polyline fill=\"none\" points=\"176.576,-346.5 232.245,-346.5 \" stroke=\"black\"/>\n",
       "<text font-family=\"Times,serif\" font-size=\"14.00\" text-anchor=\"middle\" x=\"204.411\" y=\"-331.3\">output:</text>\n",
       "<polyline fill=\"none\" points=\"232.245,-324.5 232.245,-368.5 \" stroke=\"black\"/>\n",
       "<text font-family=\"Times,serif\" font-size=\"14.00\" text-anchor=\"middle\" x=\"288.069\" y=\"-353.3\">(None, 64, 64, 3)</text>\n",
       "<polyline fill=\"none\" points=\"232.245,-346.5 343.894,-346.5 \" stroke=\"black\"/>\n",
       "<text font-family=\"Times,serif\" font-size=\"14.00\" text-anchor=\"middle\" x=\"288.069\" y=\"-331.3\">(None, 64, 64, 3)</text>\n",
       "</g>\n",
       "<!-- 4775117152 -->\n",
       "<g class=\"node\" id=\"node2\"><title>4775117152</title>\n",
       "<polygon fill=\"none\" points=\"18.2622,-243.5 18.2622,-287.5 325.631,-287.5 325.631,-243.5 18.2622,-243.5\" stroke=\"black\"/>\n",
       "<text font-family=\"Times,serif\" font-size=\"14.00\" text-anchor=\"middle\" x=\"81.2881\" y=\"-261.3\">conv2d_5: Conv2D</text>\n",
       "<polyline fill=\"none\" points=\"144.314,-243.5 144.314,-287.5 \" stroke=\"black\"/>\n",
       "<text font-family=\"Times,serif\" font-size=\"14.00\" text-anchor=\"middle\" x=\"172.148\" y=\"-272.3\">input:</text>\n",
       "<polyline fill=\"none\" points=\"144.314,-265.5 199.983,-265.5 \" stroke=\"black\"/>\n",
       "<text font-family=\"Times,serif\" font-size=\"14.00\" text-anchor=\"middle\" x=\"172.148\" y=\"-250.3\">output:</text>\n",
       "<polyline fill=\"none\" points=\"199.983,-243.5 199.983,-287.5 \" stroke=\"black\"/>\n",
       "<text font-family=\"Times,serif\" font-size=\"14.00\" text-anchor=\"middle\" x=\"262.807\" y=\"-272.3\">(None, 64, 64, 3)</text>\n",
       "<polyline fill=\"none\" points=\"199.983,-265.5 325.631,-265.5 \" stroke=\"black\"/>\n",
       "<text font-family=\"Times,serif\" font-size=\"14.00\" text-anchor=\"middle\" x=\"262.807\" y=\"-250.3\">(None, 61, 61, 128)</text>\n",
       "</g>\n",
       "<!-- 4775117208&#45;&gt;4775117152 -->\n",
       "<g class=\"edge\" id=\"edge1\"><title>4775117208-&gt;4775117152</title>\n",
       "<path d=\"M171.947,-324.329C171.947,-316.183 171.947,-306.699 171.947,-297.797\" fill=\"none\" stroke=\"black\"/>\n",
       "<polygon fill=\"black\" points=\"175.447,-297.729 171.947,-287.729 168.447,-297.729 175.447,-297.729\" stroke=\"black\"/>\n",
       "</g>\n",
       "<!-- 4775209504 -->\n",
       "<g class=\"node\" id=\"node3\"><title>4775209504</title>\n",
       "<polygon fill=\"none\" points=\"18.2622,-162.5 18.2622,-206.5 325.631,-206.5 325.631,-162.5 18.2622,-162.5\" stroke=\"black\"/>\n",
       "<text font-family=\"Times,serif\" font-size=\"14.00\" text-anchor=\"middle\" x=\"81.2881\" y=\"-180.3\">conv2d_6: Conv2D</text>\n",
       "<polyline fill=\"none\" points=\"144.314,-162.5 144.314,-206.5 \" stroke=\"black\"/>\n",
       "<text font-family=\"Times,serif\" font-size=\"14.00\" text-anchor=\"middle\" x=\"172.148\" y=\"-191.3\">input:</text>\n",
       "<polyline fill=\"none\" points=\"144.314,-184.5 199.983,-184.5 \" stroke=\"black\"/>\n",
       "<text font-family=\"Times,serif\" font-size=\"14.00\" text-anchor=\"middle\" x=\"172.148\" y=\"-169.3\">output:</text>\n",
       "<polyline fill=\"none\" points=\"199.983,-162.5 199.983,-206.5 \" stroke=\"black\"/>\n",
       "<text font-family=\"Times,serif\" font-size=\"14.00\" text-anchor=\"middle\" x=\"262.807\" y=\"-191.3\">(None, 61, 61, 128)</text>\n",
       "<polyline fill=\"none\" points=\"199.983,-184.5 325.631,-184.5 \" stroke=\"black\"/>\n",
       "<text font-family=\"Times,serif\" font-size=\"14.00\" text-anchor=\"middle\" x=\"262.807\" y=\"-169.3\">(None, 60, 60, 4)</text>\n",
       "</g>\n",
       "<!-- 4775117152&#45;&gt;4775209504 -->\n",
       "<g class=\"edge\" id=\"edge2\"><title>4775117152-&gt;4775209504</title>\n",
       "<path d=\"M171.947,-243.329C171.947,-235.183 171.947,-225.699 171.947,-216.797\" fill=\"none\" stroke=\"black\"/>\n",
       "<polygon fill=\"black\" points=\"175.447,-216.729 171.947,-206.729 168.447,-216.729 175.447,-216.729\" stroke=\"black\"/>\n",
       "</g>\n",
       "<!-- 4775118440 -->\n",
       "<g class=\"node\" id=\"node4\"><title>4775118440</title>\n",
       "<polygon fill=\"none\" points=\"32.6553,-81.5 32.6553,-125.5 311.238,-125.5 311.238,-81.5 32.6553,-81.5\" stroke=\"black\"/>\n",
       "<text font-family=\"Times,serif\" font-size=\"14.00\" text-anchor=\"middle\" x=\"88.2881\" y=\"-99.3\">flatten_3: Flatten</text>\n",
       "<polyline fill=\"none\" points=\"143.921,-81.5 143.921,-125.5 \" stroke=\"black\"/>\n",
       "<text font-family=\"Times,serif\" font-size=\"14.00\" text-anchor=\"middle\" x=\"171.755\" y=\"-110.3\">input:</text>\n",
       "<polyline fill=\"none\" points=\"143.921,-103.5 199.59,-103.5 \" stroke=\"black\"/>\n",
       "<text font-family=\"Times,serif\" font-size=\"14.00\" text-anchor=\"middle\" x=\"171.755\" y=\"-88.3\">output:</text>\n",
       "<polyline fill=\"none\" points=\"199.59,-81.5 199.59,-125.5 \" stroke=\"black\"/>\n",
       "<text font-family=\"Times,serif\" font-size=\"14.00\" text-anchor=\"middle\" x=\"255.414\" y=\"-110.3\">(None, 60, 60, 4)</text>\n",
       "<polyline fill=\"none\" points=\"199.59,-103.5 311.238,-103.5 \" stroke=\"black\"/>\n",
       "<text font-family=\"Times,serif\" font-size=\"14.00\" text-anchor=\"middle\" x=\"255.414\" y=\"-88.3\">(None, 14400)</text>\n",
       "</g>\n",
       "<!-- 4775209504&#45;&gt;4775118440 -->\n",
       "<g class=\"edge\" id=\"edge3\"><title>4775209504-&gt;4775118440</title>\n",
       "<path d=\"M171.947,-162.329C171.947,-154.183 171.947,-144.699 171.947,-135.797\" fill=\"none\" stroke=\"black\"/>\n",
       "<polygon fill=\"black\" points=\"175.447,-135.729 171.947,-125.729 168.447,-135.729 175.447,-135.729\" stroke=\"black\"/>\n",
       "</g>\n",
       "<!-- 4775316952 -->\n",
       "<g class=\"node\" id=\"node5\"><title>4775316952</title>\n",
       "<polygon fill=\"none\" points=\"43.1621,-0.5 43.1621,-44.5 300.731,-44.5 300.731,-0.5 43.1621,-0.5\" stroke=\"black\"/>\n",
       "<text font-family=\"Times,serif\" font-size=\"14.00\" text-anchor=\"middle\" x=\"95.2881\" y=\"-18.3\">dense_3: Dense</text>\n",
       "<polyline fill=\"none\" points=\"147.414,-0.5 147.414,-44.5 \" stroke=\"black\"/>\n",
       "<text font-family=\"Times,serif\" font-size=\"14.00\" text-anchor=\"middle\" x=\"175.249\" y=\"-29.3\">input:</text>\n",
       "<polyline fill=\"none\" points=\"147.414,-22.5 203.083,-22.5 \" stroke=\"black\"/>\n",
       "<text font-family=\"Times,serif\" font-size=\"14.00\" text-anchor=\"middle\" x=\"175.249\" y=\"-7.3\">output:</text>\n",
       "<polyline fill=\"none\" points=\"203.083,-0.5 203.083,-44.5 \" stroke=\"black\"/>\n",
       "<text font-family=\"Times,serif\" font-size=\"14.00\" text-anchor=\"middle\" x=\"251.907\" y=\"-29.3\">(None, 14400)</text>\n",
       "<polyline fill=\"none\" points=\"203.083,-22.5 300.731,-22.5 \" stroke=\"black\"/>\n",
       "<text font-family=\"Times,serif\" font-size=\"14.00\" text-anchor=\"middle\" x=\"251.907\" y=\"-7.3\">(None, 3)</text>\n",
       "</g>\n",
       "<!-- 4775118440&#45;&gt;4775316952 -->\n",
       "<g class=\"edge\" id=\"edge4\"><title>4775118440-&gt;4775316952</title>\n",
       "<path d=\"M171.947,-81.3294C171.947,-73.1826 171.947,-63.6991 171.947,-54.7971\" fill=\"none\" stroke=\"black\"/>\n",
       "<polygon fill=\"black\" points=\"175.447,-54.729 171.947,-44.729 168.447,-54.729 175.447,-54.729\" stroke=\"black\"/>\n",
       "</g>\n",
       "</g>\n",
       "</svg>"
      ],
      "text/plain": [
       "<IPython.core.display.SVG object>"
      ]
     },
     "execution_count": 34,
     "metadata": {},
     "output_type": "execute_result"
    }
   ],
   "source": [
    "SVG(model_to_dot(model2, show_shapes=True).create(prog='dot', format='svg'))"
   ]
  },
  {
   "cell_type": "code",
   "execution_count": null,
   "metadata": {},
   "outputs": [],
   "source": []
  }
 ],
 "metadata": {
  "kernelspec": {
   "display_name": "Python 3",
   "language": "python",
   "name": "python3"
  },
  "language_info": {
   "codemirror_mode": {
    "name": "ipython",
    "version": 3
   },
   "file_extension": ".py",
   "mimetype": "text/x-python",
   "name": "python",
   "nbconvert_exporter": "python",
   "pygments_lexer": "ipython3",
   "version": "3.5.4"
  }
 },
 "nbformat": 4,
 "nbformat_minor": 2
}
